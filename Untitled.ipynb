{
 "cells": [
  {
   "cell_type": "code",
   "execution_count": null,
   "id": "32f036a2-c56e-4860-b706-7d4cffff0613",
   "metadata": {},
   "outputs": [],
   "source": []
  }
 ],
 "metadata": {
  "kernelspec": {
   "display_name": "",
   "name": ""
  },
  "language_info": {
   "name": ""
  }
 },
 "nbformat": 4,
 "nbformat_minor": 5
}
